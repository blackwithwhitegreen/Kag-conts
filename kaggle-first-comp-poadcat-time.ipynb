{
 "cells": [
  {
   "cell_type": "code",
   "execution_count": 1,
   "id": "b6b3b5c9",
   "metadata": {
    "_cell_guid": "b1076dfc-b9ad-4769-8c92-a6c4dae69d19",
    "_uuid": "8f2839f25d086af736a60e9eeb907d3b93b6e0e5",
    "execution": {
     "iopub.execute_input": "2025-04-14T13:54:09.921540Z",
     "iopub.status.busy": "2025-04-14T13:54:09.921201Z",
     "iopub.status.idle": "2025-04-14T13:54:12.029701Z",
     "shell.execute_reply": "2025-04-14T13:54:12.028636Z"
    },
    "papermill": {
     "duration": 2.117655,
     "end_time": "2025-04-14T13:54:12.031954",
     "exception": false,
     "start_time": "2025-04-14T13:54:09.914299",
     "status": "completed"
    },
    "tags": []
   },
   "outputs": [
    {
     "name": "stdout",
     "output_type": "stream",
     "text": [
      "/kaggle/input/sample/sample_submission.csv\n",
      "/kaggle/input/mydata/train.csv\n",
      "/kaggle/input/mydata/test.csv\n"
     ]
    }
   ],
   "source": [
    "# This Python 3 environment comes with many helpful analytics libraries installed\n",
    "# It is defined by the kaggle/python Docker image: https://github.com/kaggle/docker-python\n",
    "# For example, here's several helpful packages to load\n",
    "\n",
    "import numpy as np # linear algebra\n",
    "import pandas as pd # data processing, CSV file I/O (e.g. pd.read_csv)\n",
    "import warnings\n",
    "warnings.filterwarnings('ignore')\n",
    "\n",
    "# Input data files are available in the read-only \"../input/\" directory\n",
    "# For example, running this (by clicking run or pressing Shift+Enter) will list all files under the input directory\n",
    "\n",
    "import os\n",
    "for dirname, _, filenames in os.walk('/kaggle/input'):\n",
    "    for filename in filenames:\n",
    "        print(os.path.join(dirname, filename))\n",
    "\n",
    "# You can write up to 20GB to the current directory (/kaggle/working/) that gets preserved as output when you create a version using \"Save & Run All\" \n",
    "# You can also write temporary files to /kaggle/temp/, but they won't be saved outside of the current session"
   ]
  },
  {
   "cell_type": "code",
   "execution_count": 2,
   "id": "2860e3a9",
   "metadata": {
    "execution": {
     "iopub.execute_input": "2025-04-14T13:54:12.044619Z",
     "iopub.status.busy": "2025-04-14T13:54:12.044132Z",
     "iopub.status.idle": "2025-04-14T13:54:15.223694Z",
     "shell.execute_reply": "2025-04-14T13:54:15.222732Z"
    },
    "papermill": {
     "duration": 3.187106,
     "end_time": "2025-04-14T13:54:15.225549",
     "exception": false,
     "start_time": "2025-04-14T13:54:12.038443",
     "status": "completed"
    },
    "tags": []
   },
   "outputs": [],
   "source": [
    "df_train = pd.read_csv('/kaggle/input/mydata/train.csv')\n",
    "\n",
    "df_test = pd.read_csv('/kaggle/input/mydata/test.csv')\n",
    "\n",
    "df_subm = pd.read_csv('/kaggle/input/sample/sample_submission.csv')"
   ]
  },
  {
   "cell_type": "code",
   "execution_count": 3,
   "id": "f90c615e",
   "metadata": {
    "execution": {
     "iopub.execute_input": "2025-04-14T13:54:15.236694Z",
     "iopub.status.busy": "2025-04-14T13:54:15.236325Z",
     "iopub.status.idle": "2025-04-14T13:54:15.267866Z",
     "shell.execute_reply": "2025-04-14T13:54:15.266752Z"
    },
    "papermill": {
     "duration": 0.039223,
     "end_time": "2025-04-14T13:54:15.269737",
     "exception": false,
     "start_time": "2025-04-14T13:54:15.230514",
     "status": "completed"
    },
    "tags": []
   },
   "outputs": [
    {
     "data": {
      "text/html": [
       "<div>\n",
       "<style scoped>\n",
       "    .dataframe tbody tr th:only-of-type {\n",
       "        vertical-align: middle;\n",
       "    }\n",
       "\n",
       "    .dataframe tbody tr th {\n",
       "        vertical-align: top;\n",
       "    }\n",
       "\n",
       "    .dataframe thead th {\n",
       "        text-align: right;\n",
       "    }\n",
       "</style>\n",
       "<table border=\"1\" class=\"dataframe\">\n",
       "  <thead>\n",
       "    <tr style=\"text-align: right;\">\n",
       "      <th></th>\n",
       "      <th>id</th>\n",
       "      <th>Podcast_Name</th>\n",
       "      <th>Episode_Title</th>\n",
       "      <th>Episode_Length_minutes</th>\n",
       "      <th>Genre</th>\n",
       "      <th>Host_Popularity_percentage</th>\n",
       "      <th>Publication_Day</th>\n",
       "      <th>Publication_Time</th>\n",
       "      <th>Guest_Popularity_percentage</th>\n",
       "      <th>Number_of_Ads</th>\n",
       "      <th>Episode_Sentiment</th>\n",
       "      <th>Listening_Time_minutes</th>\n",
       "    </tr>\n",
       "  </thead>\n",
       "  <tbody>\n",
       "    <tr>\n",
       "      <th>0</th>\n",
       "      <td>0</td>\n",
       "      <td>Mystery Matters</td>\n",
       "      <td>Episode 98</td>\n",
       "      <td>NaN</td>\n",
       "      <td>True Crime</td>\n",
       "      <td>74.81</td>\n",
       "      <td>Thursday</td>\n",
       "      <td>Night</td>\n",
       "      <td>NaN</td>\n",
       "      <td>0.0</td>\n",
       "      <td>Positive</td>\n",
       "      <td>31.41998</td>\n",
       "    </tr>\n",
       "    <tr>\n",
       "      <th>1</th>\n",
       "      <td>1</td>\n",
       "      <td>Joke Junction</td>\n",
       "      <td>Episode 26</td>\n",
       "      <td>119.80</td>\n",
       "      <td>Comedy</td>\n",
       "      <td>66.95</td>\n",
       "      <td>Saturday</td>\n",
       "      <td>Afternoon</td>\n",
       "      <td>75.95</td>\n",
       "      <td>2.0</td>\n",
       "      <td>Negative</td>\n",
       "      <td>88.01241</td>\n",
       "    </tr>\n",
       "    <tr>\n",
       "      <th>2</th>\n",
       "      <td>2</td>\n",
       "      <td>Study Sessions</td>\n",
       "      <td>Episode 16</td>\n",
       "      <td>73.90</td>\n",
       "      <td>Education</td>\n",
       "      <td>69.97</td>\n",
       "      <td>Tuesday</td>\n",
       "      <td>Evening</td>\n",
       "      <td>8.97</td>\n",
       "      <td>0.0</td>\n",
       "      <td>Negative</td>\n",
       "      <td>44.92531</td>\n",
       "    </tr>\n",
       "    <tr>\n",
       "      <th>3</th>\n",
       "      <td>3</td>\n",
       "      <td>Digital Digest</td>\n",
       "      <td>Episode 45</td>\n",
       "      <td>67.17</td>\n",
       "      <td>Technology</td>\n",
       "      <td>57.22</td>\n",
       "      <td>Monday</td>\n",
       "      <td>Morning</td>\n",
       "      <td>78.70</td>\n",
       "      <td>2.0</td>\n",
       "      <td>Positive</td>\n",
       "      <td>46.27824</td>\n",
       "    </tr>\n",
       "    <tr>\n",
       "      <th>4</th>\n",
       "      <td>4</td>\n",
       "      <td>Mind &amp; Body</td>\n",
       "      <td>Episode 86</td>\n",
       "      <td>110.51</td>\n",
       "      <td>Health</td>\n",
       "      <td>80.07</td>\n",
       "      <td>Monday</td>\n",
       "      <td>Afternoon</td>\n",
       "      <td>58.68</td>\n",
       "      <td>3.0</td>\n",
       "      <td>Neutral</td>\n",
       "      <td>75.61031</td>\n",
       "    </tr>\n",
       "  </tbody>\n",
       "</table>\n",
       "</div>"
      ],
      "text/plain": [
       "   id     Podcast_Name Episode_Title  Episode_Length_minutes       Genre  \\\n",
       "0   0  Mystery Matters    Episode 98                     NaN  True Crime   \n",
       "1   1    Joke Junction    Episode 26                  119.80      Comedy   \n",
       "2   2   Study Sessions    Episode 16                   73.90   Education   \n",
       "3   3   Digital Digest    Episode 45                   67.17  Technology   \n",
       "4   4      Mind & Body    Episode 86                  110.51      Health   \n",
       "\n",
       "   Host_Popularity_percentage Publication_Day Publication_Time  \\\n",
       "0                       74.81        Thursday            Night   \n",
       "1                       66.95        Saturday        Afternoon   \n",
       "2                       69.97         Tuesday          Evening   \n",
       "3                       57.22          Monday          Morning   \n",
       "4                       80.07          Monday        Afternoon   \n",
       "\n",
       "   Guest_Popularity_percentage  Number_of_Ads Episode_Sentiment  \\\n",
       "0                          NaN            0.0          Positive   \n",
       "1                        75.95            2.0          Negative   \n",
       "2                         8.97            0.0          Negative   \n",
       "3                        78.70            2.0          Positive   \n",
       "4                        58.68            3.0           Neutral   \n",
       "\n",
       "   Listening_Time_minutes  \n",
       "0                31.41998  \n",
       "1                88.01241  \n",
       "2                44.92531  \n",
       "3                46.27824  \n",
       "4                75.61031  "
      ]
     },
     "execution_count": 3,
     "metadata": {},
     "output_type": "execute_result"
    }
   ],
   "source": [
    "df_train.head()"
   ]
  },
  {
   "cell_type": "code",
   "execution_count": 4,
   "id": "df6f56e5",
   "metadata": {
    "execution": {
     "iopub.execute_input": "2025-04-14T13:54:15.281506Z",
     "iopub.status.busy": "2025-04-14T13:54:15.280580Z",
     "iopub.status.idle": "2025-04-14T13:54:15.294699Z",
     "shell.execute_reply": "2025-04-14T13:54:15.293617Z"
    },
    "papermill": {
     "duration": 0.02163,
     "end_time": "2025-04-14T13:54:15.296419",
     "exception": false,
     "start_time": "2025-04-14T13:54:15.274789",
     "status": "completed"
    },
    "tags": []
   },
   "outputs": [
    {
     "data": {
      "text/html": [
       "<div>\n",
       "<style scoped>\n",
       "    .dataframe tbody tr th:only-of-type {\n",
       "        vertical-align: middle;\n",
       "    }\n",
       "\n",
       "    .dataframe tbody tr th {\n",
       "        vertical-align: top;\n",
       "    }\n",
       "\n",
       "    .dataframe thead th {\n",
       "        text-align: right;\n",
       "    }\n",
       "</style>\n",
       "<table border=\"1\" class=\"dataframe\">\n",
       "  <thead>\n",
       "    <tr style=\"text-align: right;\">\n",
       "      <th></th>\n",
       "      <th>id</th>\n",
       "      <th>Podcast_Name</th>\n",
       "      <th>Episode_Title</th>\n",
       "      <th>Episode_Length_minutes</th>\n",
       "      <th>Genre</th>\n",
       "      <th>Host_Popularity_percentage</th>\n",
       "      <th>Publication_Day</th>\n",
       "      <th>Publication_Time</th>\n",
       "      <th>Guest_Popularity_percentage</th>\n",
       "      <th>Number_of_Ads</th>\n",
       "      <th>Episode_Sentiment</th>\n",
       "    </tr>\n",
       "  </thead>\n",
       "  <tbody>\n",
       "    <tr>\n",
       "      <th>0</th>\n",
       "      <td>750000</td>\n",
       "      <td>Educational Nuggets</td>\n",
       "      <td>Episode 73</td>\n",
       "      <td>78.96</td>\n",
       "      <td>Education</td>\n",
       "      <td>38.11</td>\n",
       "      <td>Saturday</td>\n",
       "      <td>Evening</td>\n",
       "      <td>53.33</td>\n",
       "      <td>1.0</td>\n",
       "      <td>Neutral</td>\n",
       "    </tr>\n",
       "    <tr>\n",
       "      <th>1</th>\n",
       "      <td>750001</td>\n",
       "      <td>Sound Waves</td>\n",
       "      <td>Episode 23</td>\n",
       "      <td>27.87</td>\n",
       "      <td>Music</td>\n",
       "      <td>71.29</td>\n",
       "      <td>Sunday</td>\n",
       "      <td>Morning</td>\n",
       "      <td>NaN</td>\n",
       "      <td>0.0</td>\n",
       "      <td>Neutral</td>\n",
       "    </tr>\n",
       "    <tr>\n",
       "      <th>2</th>\n",
       "      <td>750002</td>\n",
       "      <td>Joke Junction</td>\n",
       "      <td>Episode 11</td>\n",
       "      <td>69.10</td>\n",
       "      <td>Comedy</td>\n",
       "      <td>67.89</td>\n",
       "      <td>Friday</td>\n",
       "      <td>Evening</td>\n",
       "      <td>97.51</td>\n",
       "      <td>0.0</td>\n",
       "      <td>Positive</td>\n",
       "    </tr>\n",
       "    <tr>\n",
       "      <th>3</th>\n",
       "      <td>750003</td>\n",
       "      <td>Comedy Corner</td>\n",
       "      <td>Episode 73</td>\n",
       "      <td>115.39</td>\n",
       "      <td>Comedy</td>\n",
       "      <td>23.40</td>\n",
       "      <td>Sunday</td>\n",
       "      <td>Morning</td>\n",
       "      <td>51.75</td>\n",
       "      <td>2.0</td>\n",
       "      <td>Positive</td>\n",
       "    </tr>\n",
       "    <tr>\n",
       "      <th>4</th>\n",
       "      <td>750004</td>\n",
       "      <td>Life Lessons</td>\n",
       "      <td>Episode 50</td>\n",
       "      <td>72.32</td>\n",
       "      <td>Lifestyle</td>\n",
       "      <td>58.10</td>\n",
       "      <td>Wednesday</td>\n",
       "      <td>Morning</td>\n",
       "      <td>11.30</td>\n",
       "      <td>2.0</td>\n",
       "      <td>Neutral</td>\n",
       "    </tr>\n",
       "  </tbody>\n",
       "</table>\n",
       "</div>"
      ],
      "text/plain": [
       "       id         Podcast_Name Episode_Title  Episode_Length_minutes  \\\n",
       "0  750000  Educational Nuggets    Episode 73                   78.96   \n",
       "1  750001          Sound Waves    Episode 23                   27.87   \n",
       "2  750002        Joke Junction    Episode 11                   69.10   \n",
       "3  750003        Comedy Corner    Episode 73                  115.39   \n",
       "4  750004         Life Lessons    Episode 50                   72.32   \n",
       "\n",
       "       Genre  Host_Popularity_percentage Publication_Day Publication_Time  \\\n",
       "0  Education                       38.11        Saturday          Evening   \n",
       "1      Music                       71.29          Sunday          Morning   \n",
       "2     Comedy                       67.89          Friday          Evening   \n",
       "3     Comedy                       23.40          Sunday          Morning   \n",
       "4  Lifestyle                       58.10       Wednesday          Morning   \n",
       "\n",
       "   Guest_Popularity_percentage  Number_of_Ads Episode_Sentiment  \n",
       "0                        53.33            1.0           Neutral  \n",
       "1                          NaN            0.0           Neutral  \n",
       "2                        97.51            0.0          Positive  \n",
       "3                        51.75            2.0          Positive  \n",
       "4                        11.30            2.0           Neutral  "
      ]
     },
     "execution_count": 4,
     "metadata": {},
     "output_type": "execute_result"
    }
   ],
   "source": [
    "df_test.head()"
   ]
  },
  {
   "cell_type": "code",
   "execution_count": 5,
   "id": "7f1f21a3",
   "metadata": {
    "execution": {
     "iopub.execute_input": "2025-04-14T13:54:15.308734Z",
     "iopub.status.busy": "2025-04-14T13:54:15.308046Z",
     "iopub.status.idle": "2025-04-14T13:54:19.389307Z",
     "shell.execute_reply": "2025-04-14T13:54:19.387806Z"
    },
    "papermill": {
     "duration": 4.089169,
     "end_time": "2025-04-14T13:54:19.391127",
     "exception": false,
     "start_time": "2025-04-14T13:54:15.301958",
     "status": "completed"
    },
    "tags": []
   },
   "outputs": [],
   "source": [
    "from sklearn.impute import SimpleImputer\n",
    "\n",
    "# For numeric data(Train Dataset)\n",
    "num_imputer = SimpleImputer(strategy='median')\n",
    "df_train[df_train.select_dtypes(include=np.number).columns] = num_imputer.fit_transform(df_train.select_dtypes(include=np.number))\n",
    "\n",
    "# For categorical data(Trian Dataset)\n",
    "cat_imputer = SimpleImputer(strategy='most_frequent')\n",
    "df_train[df_train.select_dtypes(include='object').columns] = cat_imputer.fit_transform(df_train.select_dtypes(include='object'))\n",
    "\n",
    "\n",
    "\n",
    "# For numeric data(Test Dataset)\n",
    "num_imputer = SimpleImputer(strategy='median')\n",
    "df_test[df_test.select_dtypes(include=np.number).columns] = num_imputer.fit_transform(df_test.select_dtypes(include=np.number))\n",
    "\n",
    "# For categorical data(Test Dataset)\n",
    "cat_imputer = SimpleImputer(strategy='most_frequent')\n",
    "df_test[df_test.select_dtypes(include='object').columns] = cat_imputer.fit_transform(df_test.select_dtypes(include='object'))\n"
   ]
  },
  {
   "cell_type": "code",
   "execution_count": 6,
   "id": "d0cda86d",
   "metadata": {
    "execution": {
     "iopub.execute_input": "2025-04-14T13:54:19.404810Z",
     "iopub.status.busy": "2025-04-14T13:54:19.404110Z",
     "iopub.status.idle": "2025-04-14T13:54:19.422438Z",
     "shell.execute_reply": "2025-04-14T13:54:19.421291Z"
    },
    "papermill": {
     "duration": 0.027574,
     "end_time": "2025-04-14T13:54:19.424073",
     "exception": false,
     "start_time": "2025-04-14T13:54:19.396499",
     "status": "completed"
    },
    "tags": []
   },
   "outputs": [
    {
     "data": {
      "text/html": [
       "<div>\n",
       "<style scoped>\n",
       "    .dataframe tbody tr th:only-of-type {\n",
       "        vertical-align: middle;\n",
       "    }\n",
       "\n",
       "    .dataframe tbody tr th {\n",
       "        vertical-align: top;\n",
       "    }\n",
       "\n",
       "    .dataframe thead th {\n",
       "        text-align: right;\n",
       "    }\n",
       "</style>\n",
       "<table border=\"1\" class=\"dataframe\">\n",
       "  <thead>\n",
       "    <tr style=\"text-align: right;\">\n",
       "      <th></th>\n",
       "      <th>id</th>\n",
       "      <th>Podcast_Name</th>\n",
       "      <th>Episode_Title</th>\n",
       "      <th>Episode_Length_minutes</th>\n",
       "      <th>Genre</th>\n",
       "      <th>Host_Popularity_percentage</th>\n",
       "      <th>Publication_Day</th>\n",
       "      <th>Publication_Time</th>\n",
       "      <th>Guest_Popularity_percentage</th>\n",
       "      <th>Number_of_Ads</th>\n",
       "      <th>Episode_Sentiment</th>\n",
       "      <th>Listening_Time_minutes</th>\n",
       "    </tr>\n",
       "  </thead>\n",
       "  <tbody>\n",
       "    <tr>\n",
       "      <th>0</th>\n",
       "      <td>0.0</td>\n",
       "      <td>Mystery Matters</td>\n",
       "      <td>Episode 98</td>\n",
       "      <td>63.84</td>\n",
       "      <td>True Crime</td>\n",
       "      <td>74.81</td>\n",
       "      <td>Thursday</td>\n",
       "      <td>Night</td>\n",
       "      <td>53.58</td>\n",
       "      <td>0.0</td>\n",
       "      <td>Positive</td>\n",
       "      <td>31.41998</td>\n",
       "    </tr>\n",
       "    <tr>\n",
       "      <th>1</th>\n",
       "      <td>1.0</td>\n",
       "      <td>Joke Junction</td>\n",
       "      <td>Episode 26</td>\n",
       "      <td>119.80</td>\n",
       "      <td>Comedy</td>\n",
       "      <td>66.95</td>\n",
       "      <td>Saturday</td>\n",
       "      <td>Afternoon</td>\n",
       "      <td>75.95</td>\n",
       "      <td>2.0</td>\n",
       "      <td>Negative</td>\n",
       "      <td>88.01241</td>\n",
       "    </tr>\n",
       "    <tr>\n",
       "      <th>2</th>\n",
       "      <td>2.0</td>\n",
       "      <td>Study Sessions</td>\n",
       "      <td>Episode 16</td>\n",
       "      <td>73.90</td>\n",
       "      <td>Education</td>\n",
       "      <td>69.97</td>\n",
       "      <td>Tuesday</td>\n",
       "      <td>Evening</td>\n",
       "      <td>8.97</td>\n",
       "      <td>0.0</td>\n",
       "      <td>Negative</td>\n",
       "      <td>44.92531</td>\n",
       "    </tr>\n",
       "    <tr>\n",
       "      <th>3</th>\n",
       "      <td>3.0</td>\n",
       "      <td>Digital Digest</td>\n",
       "      <td>Episode 45</td>\n",
       "      <td>67.17</td>\n",
       "      <td>Technology</td>\n",
       "      <td>57.22</td>\n",
       "      <td>Monday</td>\n",
       "      <td>Morning</td>\n",
       "      <td>78.70</td>\n",
       "      <td>2.0</td>\n",
       "      <td>Positive</td>\n",
       "      <td>46.27824</td>\n",
       "    </tr>\n",
       "    <tr>\n",
       "      <th>4</th>\n",
       "      <td>4.0</td>\n",
       "      <td>Mind &amp; Body</td>\n",
       "      <td>Episode 86</td>\n",
       "      <td>110.51</td>\n",
       "      <td>Health</td>\n",
       "      <td>80.07</td>\n",
       "      <td>Monday</td>\n",
       "      <td>Afternoon</td>\n",
       "      <td>58.68</td>\n",
       "      <td>3.0</td>\n",
       "      <td>Neutral</td>\n",
       "      <td>75.61031</td>\n",
       "    </tr>\n",
       "  </tbody>\n",
       "</table>\n",
       "</div>"
      ],
      "text/plain": [
       "    id     Podcast_Name Episode_Title  Episode_Length_minutes       Genre  \\\n",
       "0  0.0  Mystery Matters    Episode 98                   63.84  True Crime   \n",
       "1  1.0    Joke Junction    Episode 26                  119.80      Comedy   \n",
       "2  2.0   Study Sessions    Episode 16                   73.90   Education   \n",
       "3  3.0   Digital Digest    Episode 45                   67.17  Technology   \n",
       "4  4.0      Mind & Body    Episode 86                  110.51      Health   \n",
       "\n",
       "   Host_Popularity_percentage Publication_Day Publication_Time  \\\n",
       "0                       74.81        Thursday            Night   \n",
       "1                       66.95        Saturday        Afternoon   \n",
       "2                       69.97         Tuesday          Evening   \n",
       "3                       57.22          Monday          Morning   \n",
       "4                       80.07          Monday        Afternoon   \n",
       "\n",
       "   Guest_Popularity_percentage  Number_of_Ads Episode_Sentiment  \\\n",
       "0                        53.58            0.0          Positive   \n",
       "1                        75.95            2.0          Negative   \n",
       "2                         8.97            0.0          Negative   \n",
       "3                        78.70            2.0          Positive   \n",
       "4                        58.68            3.0           Neutral   \n",
       "\n",
       "   Listening_Time_minutes  \n",
       "0                31.41998  \n",
       "1                88.01241  \n",
       "2                44.92531  \n",
       "3                46.27824  \n",
       "4                75.61031  "
      ]
     },
     "execution_count": 6,
     "metadata": {},
     "output_type": "execute_result"
    }
   ],
   "source": [
    "df_train.head()"
   ]
  },
  {
   "cell_type": "code",
   "execution_count": 7,
   "id": "2afb69b1",
   "metadata": {
    "execution": {
     "iopub.execute_input": "2025-04-14T13:54:19.436094Z",
     "iopub.status.busy": "2025-04-14T13:54:19.435732Z",
     "iopub.status.idle": "2025-04-14T13:54:19.451102Z",
     "shell.execute_reply": "2025-04-14T13:54:19.450237Z"
    },
    "papermill": {
     "duration": 0.022996,
     "end_time": "2025-04-14T13:54:19.452557",
     "exception": false,
     "start_time": "2025-04-14T13:54:19.429561",
     "status": "completed"
    },
    "tags": []
   },
   "outputs": [
    {
     "data": {
      "text/html": [
       "<div>\n",
       "<style scoped>\n",
       "    .dataframe tbody tr th:only-of-type {\n",
       "        vertical-align: middle;\n",
       "    }\n",
       "\n",
       "    .dataframe tbody tr th {\n",
       "        vertical-align: top;\n",
       "    }\n",
       "\n",
       "    .dataframe thead th {\n",
       "        text-align: right;\n",
       "    }\n",
       "</style>\n",
       "<table border=\"1\" class=\"dataframe\">\n",
       "  <thead>\n",
       "    <tr style=\"text-align: right;\">\n",
       "      <th></th>\n",
       "      <th>id</th>\n",
       "      <th>Podcast_Name</th>\n",
       "      <th>Episode_Title</th>\n",
       "      <th>Episode_Length_minutes</th>\n",
       "      <th>Genre</th>\n",
       "      <th>Host_Popularity_percentage</th>\n",
       "      <th>Publication_Day</th>\n",
       "      <th>Publication_Time</th>\n",
       "      <th>Guest_Popularity_percentage</th>\n",
       "      <th>Number_of_Ads</th>\n",
       "      <th>Episode_Sentiment</th>\n",
       "    </tr>\n",
       "  </thead>\n",
       "  <tbody>\n",
       "    <tr>\n",
       "      <th>0</th>\n",
       "      <td>750000.0</td>\n",
       "      <td>Educational Nuggets</td>\n",
       "      <td>Episode 73</td>\n",
       "      <td>78.96</td>\n",
       "      <td>Education</td>\n",
       "      <td>38.11</td>\n",
       "      <td>Saturday</td>\n",
       "      <td>Evening</td>\n",
       "      <td>53.33</td>\n",
       "      <td>1.0</td>\n",
       "      <td>Neutral</td>\n",
       "    </tr>\n",
       "    <tr>\n",
       "      <th>1</th>\n",
       "      <td>750001.0</td>\n",
       "      <td>Sound Waves</td>\n",
       "      <td>Episode 23</td>\n",
       "      <td>27.87</td>\n",
       "      <td>Music</td>\n",
       "      <td>71.29</td>\n",
       "      <td>Sunday</td>\n",
       "      <td>Morning</td>\n",
       "      <td>53.36</td>\n",
       "      <td>0.0</td>\n",
       "      <td>Neutral</td>\n",
       "    </tr>\n",
       "    <tr>\n",
       "      <th>2</th>\n",
       "      <td>750002.0</td>\n",
       "      <td>Joke Junction</td>\n",
       "      <td>Episode 11</td>\n",
       "      <td>69.10</td>\n",
       "      <td>Comedy</td>\n",
       "      <td>67.89</td>\n",
       "      <td>Friday</td>\n",
       "      <td>Evening</td>\n",
       "      <td>97.51</td>\n",
       "      <td>0.0</td>\n",
       "      <td>Positive</td>\n",
       "    </tr>\n",
       "    <tr>\n",
       "      <th>3</th>\n",
       "      <td>750003.0</td>\n",
       "      <td>Comedy Corner</td>\n",
       "      <td>Episode 73</td>\n",
       "      <td>115.39</td>\n",
       "      <td>Comedy</td>\n",
       "      <td>23.40</td>\n",
       "      <td>Sunday</td>\n",
       "      <td>Morning</td>\n",
       "      <td>51.75</td>\n",
       "      <td>2.0</td>\n",
       "      <td>Positive</td>\n",
       "    </tr>\n",
       "    <tr>\n",
       "      <th>4</th>\n",
       "      <td>750004.0</td>\n",
       "      <td>Life Lessons</td>\n",
       "      <td>Episode 50</td>\n",
       "      <td>72.32</td>\n",
       "      <td>Lifestyle</td>\n",
       "      <td>58.10</td>\n",
       "      <td>Wednesday</td>\n",
       "      <td>Morning</td>\n",
       "      <td>11.30</td>\n",
       "      <td>2.0</td>\n",
       "      <td>Neutral</td>\n",
       "    </tr>\n",
       "  </tbody>\n",
       "</table>\n",
       "</div>"
      ],
      "text/plain": [
       "         id         Podcast_Name Episode_Title  Episode_Length_minutes  \\\n",
       "0  750000.0  Educational Nuggets    Episode 73                   78.96   \n",
       "1  750001.0          Sound Waves    Episode 23                   27.87   \n",
       "2  750002.0        Joke Junction    Episode 11                   69.10   \n",
       "3  750003.0        Comedy Corner    Episode 73                  115.39   \n",
       "4  750004.0         Life Lessons    Episode 50                   72.32   \n",
       "\n",
       "       Genre  Host_Popularity_percentage Publication_Day Publication_Time  \\\n",
       "0  Education                       38.11        Saturday          Evening   \n",
       "1      Music                       71.29          Sunday          Morning   \n",
       "2     Comedy                       67.89          Friday          Evening   \n",
       "3     Comedy                       23.40          Sunday          Morning   \n",
       "4  Lifestyle                       58.10       Wednesday          Morning   \n",
       "\n",
       "   Guest_Popularity_percentage  Number_of_Ads Episode_Sentiment  \n",
       "0                        53.33            1.0           Neutral  \n",
       "1                        53.36            0.0           Neutral  \n",
       "2                        97.51            0.0          Positive  \n",
       "3                        51.75            2.0          Positive  \n",
       "4                        11.30            2.0           Neutral  "
      ]
     },
     "execution_count": 7,
     "metadata": {},
     "output_type": "execute_result"
    }
   ],
   "source": [
    "df_test.head()"
   ]
  },
  {
   "cell_type": "code",
   "execution_count": 8,
   "id": "dd0bb6f1",
   "metadata": {
    "execution": {
     "iopub.execute_input": "2025-04-14T13:54:19.465635Z",
     "iopub.status.busy": "2025-04-14T13:54:19.464381Z",
     "iopub.status.idle": "2025-04-14T13:54:19.727987Z",
     "shell.execute_reply": "2025-04-14T13:54:19.726782Z"
    },
    "papermill": {
     "duration": 0.27191,
     "end_time": "2025-04-14T13:54:19.730007",
     "exception": false,
     "start_time": "2025-04-14T13:54:19.458097",
     "status": "completed"
    },
    "tags": []
   },
   "outputs": [
    {
     "name": "stdout",
     "output_type": "stream",
     "text": [
      "<class 'pandas.core.frame.DataFrame'>\n",
      "RangeIndex: 750000 entries, 0 to 749999\n",
      "Data columns (total 12 columns):\n",
      " #   Column                       Non-Null Count   Dtype  \n",
      "---  ------                       --------------   -----  \n",
      " 0   id                           750000 non-null  float64\n",
      " 1   Podcast_Name                 750000 non-null  object \n",
      " 2   Episode_Title                750000 non-null  object \n",
      " 3   Episode_Length_minutes       750000 non-null  float64\n",
      " 4   Genre                        750000 non-null  object \n",
      " 5   Host_Popularity_percentage   750000 non-null  float64\n",
      " 6   Publication_Day              750000 non-null  object \n",
      " 7   Publication_Time             750000 non-null  object \n",
      " 8   Guest_Popularity_percentage  750000 non-null  float64\n",
      " 9   Number_of_Ads                750000 non-null  float64\n",
      " 10  Episode_Sentiment            750000 non-null  object \n",
      " 11  Listening_Time_minutes       750000 non-null  float64\n",
      "dtypes: float64(6), object(6)\n",
      "memory usage: 68.7+ MB\n"
     ]
    }
   ],
   "source": [
    "df_train.info()"
   ]
  },
  {
   "cell_type": "code",
   "execution_count": 9,
   "id": "d06db5db",
   "metadata": {
    "execution": {
     "iopub.execute_input": "2025-04-14T13:54:19.742526Z",
     "iopub.status.busy": "2025-04-14T13:54:19.741875Z",
     "iopub.status.idle": "2025-04-14T13:54:19.748263Z",
     "shell.execute_reply": "2025-04-14T13:54:19.747340Z"
    },
    "papermill": {
     "duration": 0.014028,
     "end_time": "2025-04-14T13:54:19.749707",
     "exception": false,
     "start_time": "2025-04-14T13:54:19.735679",
     "status": "completed"
    },
    "tags": []
   },
   "outputs": [
    {
     "data": {
      "text/plain": [
       "Index(['id', 'Podcast_Name', 'Episode_Title', 'Episode_Length_minutes',\n",
       "       'Genre', 'Host_Popularity_percentage', 'Publication_Day',\n",
       "       'Publication_Time', 'Guest_Popularity_percentage', 'Number_of_Ads',\n",
       "       'Episode_Sentiment', 'Listening_Time_minutes'],\n",
       "      dtype='object')"
      ]
     },
     "execution_count": 9,
     "metadata": {},
     "output_type": "execute_result"
    }
   ],
   "source": [
    "df_train.columns"
   ]
  },
  {
   "cell_type": "code",
   "execution_count": 10,
   "id": "605cecc9",
   "metadata": {
    "execution": {
     "iopub.execute_input": "2025-04-14T13:54:19.761901Z",
     "iopub.status.busy": "2025-04-14T13:54:19.761531Z",
     "iopub.status.idle": "2025-04-14T13:54:19.765994Z",
     "shell.execute_reply": "2025-04-14T13:54:19.765043Z"
    },
    "papermill": {
     "duration": 0.012431,
     "end_time": "2025-04-14T13:54:19.767646",
     "exception": false,
     "start_time": "2025-04-14T13:54:19.755215",
     "status": "completed"
    },
    "tags": []
   },
   "outputs": [],
   "source": [
    "from sklearn.model_selection import train_test_split\n",
    "from sklearn.metrics import r2_score,mean_squared_error,mean_absolute_error"
   ]
  },
  {
   "cell_type": "code",
   "execution_count": 11,
   "id": "c1beac19",
   "metadata": {
    "execution": {
     "iopub.execute_input": "2025-04-14T13:54:19.780667Z",
     "iopub.status.busy": "2025-04-14T13:54:19.780056Z",
     "iopub.status.idle": "2025-04-14T13:54:19.795334Z",
     "shell.execute_reply": "2025-04-14T13:54:19.794434Z"
    },
    "papermill": {
     "duration": 0.023865,
     "end_time": "2025-04-14T13:54:19.797396",
     "exception": false,
     "start_time": "2025-04-14T13:54:19.773531",
     "status": "completed"
    },
    "tags": []
   },
   "outputs": [],
   "source": [
    "X = df_train.drop(columns=['id','Listening_Time_minutes','Podcast_Name','Episode_Title','Genre','Publication_Day','Publication_Time','Episode_Sentiment','Number_of_Ads'])\n",
    "y = df_train['Listening_Time_minutes']"
   ]
  },
  {
   "cell_type": "code",
   "execution_count": 12,
   "id": "124208ec",
   "metadata": {
    "execution": {
     "iopub.execute_input": "2025-04-14T13:54:19.809918Z",
     "iopub.status.busy": "2025-04-14T13:54:19.809547Z",
     "iopub.status.idle": "2025-04-14T13:54:19.917627Z",
     "shell.execute_reply": "2025-04-14T13:54:19.916586Z"
    },
    "papermill": {
     "duration": 0.11631,
     "end_time": "2025-04-14T13:54:19.919369",
     "exception": false,
     "start_time": "2025-04-14T13:54:19.803059",
     "status": "completed"
    },
    "tags": []
   },
   "outputs": [],
   "source": [
    "X_train,X_test,y_train,y_test = train_test_split(X,y,test_size=0.2,random_state=42)"
   ]
  },
  {
   "cell_type": "code",
   "execution_count": 13,
   "id": "74d39811",
   "metadata": {
    "execution": {
     "iopub.execute_input": "2025-04-14T13:54:19.932078Z",
     "iopub.status.busy": "2025-04-14T13:54:19.931759Z",
     "iopub.status.idle": "2025-04-14T13:54:19.944430Z",
     "shell.execute_reply": "2025-04-14T13:54:19.943573Z"
    },
    "papermill": {
     "duration": 0.020515,
     "end_time": "2025-04-14T13:54:19.945970",
     "exception": false,
     "start_time": "2025-04-14T13:54:19.925455",
     "status": "completed"
    },
    "tags": []
   },
   "outputs": [
    {
     "data": {
      "text/html": [
       "<div>\n",
       "<style scoped>\n",
       "    .dataframe tbody tr th:only-of-type {\n",
       "        vertical-align: middle;\n",
       "    }\n",
       "\n",
       "    .dataframe tbody tr th {\n",
       "        vertical-align: top;\n",
       "    }\n",
       "\n",
       "    .dataframe thead th {\n",
       "        text-align: right;\n",
       "    }\n",
       "</style>\n",
       "<table border=\"1\" class=\"dataframe\">\n",
       "  <thead>\n",
       "    <tr style=\"text-align: right;\">\n",
       "      <th></th>\n",
       "      <th>Episode_Length_minutes</th>\n",
       "      <th>Host_Popularity_percentage</th>\n",
       "      <th>Guest_Popularity_percentage</th>\n",
       "    </tr>\n",
       "  </thead>\n",
       "  <tbody>\n",
       "    <tr>\n",
       "      <th>0</th>\n",
       "      <td>63.84</td>\n",
       "      <td>74.81</td>\n",
       "      <td>53.58</td>\n",
       "    </tr>\n",
       "    <tr>\n",
       "      <th>1</th>\n",
       "      <td>119.80</td>\n",
       "      <td>66.95</td>\n",
       "      <td>75.95</td>\n",
       "    </tr>\n",
       "    <tr>\n",
       "      <th>2</th>\n",
       "      <td>73.90</td>\n",
       "      <td>69.97</td>\n",
       "      <td>8.97</td>\n",
       "    </tr>\n",
       "    <tr>\n",
       "      <th>3</th>\n",
       "      <td>67.17</td>\n",
       "      <td>57.22</td>\n",
       "      <td>78.70</td>\n",
       "    </tr>\n",
       "    <tr>\n",
       "      <th>4</th>\n",
       "      <td>110.51</td>\n",
       "      <td>80.07</td>\n",
       "      <td>58.68</td>\n",
       "    </tr>\n",
       "    <tr>\n",
       "      <th>...</th>\n",
       "      <td>...</td>\n",
       "      <td>...</td>\n",
       "      <td>...</td>\n",
       "    </tr>\n",
       "    <tr>\n",
       "      <th>749995</th>\n",
       "      <td>75.66</td>\n",
       "      <td>69.36</td>\n",
       "      <td>53.58</td>\n",
       "    </tr>\n",
       "    <tr>\n",
       "      <th>749996</th>\n",
       "      <td>75.75</td>\n",
       "      <td>35.21</td>\n",
       "      <td>53.58</td>\n",
       "    </tr>\n",
       "    <tr>\n",
       "      <th>749997</th>\n",
       "      <td>30.98</td>\n",
       "      <td>78.58</td>\n",
       "      <td>84.89</td>\n",
       "    </tr>\n",
       "    <tr>\n",
       "      <th>749998</th>\n",
       "      <td>108.98</td>\n",
       "      <td>45.39</td>\n",
       "      <td>93.27</td>\n",
       "    </tr>\n",
       "    <tr>\n",
       "      <th>749999</th>\n",
       "      <td>24.10</td>\n",
       "      <td>22.45</td>\n",
       "      <td>36.72</td>\n",
       "    </tr>\n",
       "  </tbody>\n",
       "</table>\n",
       "<p>750000 rows × 3 columns</p>\n",
       "</div>"
      ],
      "text/plain": [
       "        Episode_Length_minutes  Host_Popularity_percentage  \\\n",
       "0                        63.84                       74.81   \n",
       "1                       119.80                       66.95   \n",
       "2                        73.90                       69.97   \n",
       "3                        67.17                       57.22   \n",
       "4                       110.51                       80.07   \n",
       "...                        ...                         ...   \n",
       "749995                   75.66                       69.36   \n",
       "749996                   75.75                       35.21   \n",
       "749997                   30.98                       78.58   \n",
       "749998                  108.98                       45.39   \n",
       "749999                   24.10                       22.45   \n",
       "\n",
       "        Guest_Popularity_percentage  \n",
       "0                             53.58  \n",
       "1                             75.95  \n",
       "2                              8.97  \n",
       "3                             78.70  \n",
       "4                             58.68  \n",
       "...                             ...  \n",
       "749995                        53.58  \n",
       "749996                        53.58  \n",
       "749997                        84.89  \n",
       "749998                        93.27  \n",
       "749999                        36.72  \n",
       "\n",
       "[750000 rows x 3 columns]"
      ]
     },
     "execution_count": 13,
     "metadata": {},
     "output_type": "execute_result"
    }
   ],
   "source": [
    "X"
   ]
  },
  {
   "cell_type": "code",
   "execution_count": 14,
   "id": "9ebd9c60",
   "metadata": {
    "execution": {
     "iopub.execute_input": "2025-04-14T13:54:19.958823Z",
     "iopub.status.busy": "2025-04-14T13:54:19.958491Z",
     "iopub.status.idle": "2025-04-14T13:54:20.503201Z",
     "shell.execute_reply": "2025-04-14T13:54:20.502234Z"
    },
    "papermill": {
     "duration": 0.55332,
     "end_time": "2025-04-14T13:54:20.505099",
     "exception": false,
     "start_time": "2025-04-14T13:54:19.951779",
     "status": "completed"
    },
    "tags": []
   },
   "outputs": [],
   "source": [
    "from sklearn.linear_model import LinearRegression, Ridge, Lasso, ElasticNet\n",
    "from sklearn.tree import DecisionTreeRegressor\n",
    "from sklearn.ensemble import RandomForestRegressor, GradientBoostingRegressor, AdaBoostRegressor\n",
    "from sklearn.neighbors import KNeighborsRegressor\n",
    "from sklearn.svm import SVR\n",
    "from xgboost import XGBRegressor"
   ]
  },
  {
   "cell_type": "code",
   "execution_count": 15,
   "id": "78417572",
   "metadata": {
    "execution": {
     "iopub.execute_input": "2025-04-14T13:54:20.520222Z",
     "iopub.status.busy": "2025-04-14T13:54:20.519866Z",
     "iopub.status.idle": "2025-04-14T13:54:20.528396Z",
     "shell.execute_reply": "2025-04-14T13:54:20.526274Z"
    },
    "papermill": {
     "duration": 0.01914,
     "end_time": "2025-04-14T13:54:20.530461",
     "exception": false,
     "start_time": "2025-04-14T13:54:20.511321",
     "status": "completed"
    },
    "tags": []
   },
   "outputs": [],
   "source": [
    "models = {\n",
    "    \"LinearRegression\": LinearRegression(),\n",
    "    \"Ridge\": Ridge(),\n",
    "    \"Lasso\": Lasso(),\n",
    "    \"ElasticNet\": ElasticNet(),\n",
    "    \"DecisionTree\": DecisionTreeRegressor(),\n",
    "    \"RandomForest\": RandomForestRegressor(),\n",
    "    \"GradientBoosting\": GradientBoostingRegressor(),\n",
    "    \"AdaBoost\": AdaBoostRegressor(),\n",
    "    \"KNeighbors\": KNeighborsRegressor(),\n",
    "    \"XGBoost\": XGBRegressor(verbosity=0)\n",
    "}"
   ]
  },
  {
   "cell_type": "code",
   "execution_count": 16,
   "id": "173b8bb1",
   "metadata": {
    "execution": {
     "iopub.execute_input": "2025-04-14T13:54:20.543956Z",
     "iopub.status.busy": "2025-04-14T13:54:20.543587Z",
     "iopub.status.idle": "2025-04-14T14:01:06.086488Z",
     "shell.execute_reply": "2025-04-14T14:01:06.085480Z"
    },
    "papermill": {
     "duration": 405.551536,
     "end_time": "2025-04-14T14:01:06.088308",
     "exception": false,
     "start_time": "2025-04-14T13:54:20.536772",
     "status": "completed"
    },
    "tags": []
   },
   "outputs": [],
   "source": [
    "results = []\n",
    "\n",
    "for name, model in models.items():\n",
    "    model.fit(X_train, y_train)\n",
    "    y_pred = model.predict(X_test)\n",
    "\n",
    "    r2 = r2_score(y_test, y_pred)\n",
    "    mse = mean_squared_error(y_test, y_pred)\n",
    "    rmse = np.sqrt(mse)\n",
    "    mae = mean_absolute_error(y_test, y_pred)\n",
    "\n",
    "    results.append({\n",
    "        'Model': name,\n",
    "        'RMSE': round(rmse, 4)\n",
    "    })"
   ]
  },
  {
   "cell_type": "code",
   "execution_count": 17,
   "id": "547a2a12",
   "metadata": {
    "execution": {
     "iopub.execute_input": "2025-04-14T14:01:06.101220Z",
     "iopub.status.busy": "2025-04-14T14:01:06.100893Z",
     "iopub.status.idle": "2025-04-14T14:01:06.109692Z",
     "shell.execute_reply": "2025-04-14T14:01:06.108654Z"
    },
    "papermill": {
     "duration": 0.016789,
     "end_time": "2025-04-14T14:01:06.111220",
     "exception": false,
     "start_time": "2025-04-14T14:01:06.094431",
     "status": "completed"
    },
    "tags": []
   },
   "outputs": [
    {
     "name": "stdout",
     "output_type": "stream",
     "text": [
      "              Model     RMSE\n",
      "4      DecisionTree  17.6758\n",
      "8        KNeighbors  14.2320\n",
      "7          AdaBoost  13.7204\n",
      "5      RandomForest  13.4882\n",
      "0  LinearRegression  13.4816\n",
      "1             Ridge  13.4816\n",
      "3        ElasticNet  13.4816\n",
      "2             Lasso  13.4815\n",
      "6  GradientBoosting  13.3455\n",
      "9           XGBoost  13.2775\n"
     ]
    }
   ],
   "source": [
    "results_df = pd.DataFrame(results).sort_values(by='RMSE', ascending=False)\n",
    "print(results_df)"
   ]
  },
  {
   "cell_type": "code",
   "execution_count": 18,
   "id": "e971f50b",
   "metadata": {
    "execution": {
     "iopub.execute_input": "2025-04-14T14:01:06.124074Z",
     "iopub.status.busy": "2025-04-14T14:01:06.123737Z",
     "iopub.status.idle": "2025-04-14T14:01:06.127953Z",
     "shell.execute_reply": "2025-04-14T14:01:06.127076Z"
    },
    "papermill": {
     "duration": 0.012437,
     "end_time": "2025-04-14T14:01:06.129504",
     "exception": false,
     "start_time": "2025-04-14T14:01:06.117067",
     "status": "completed"
    },
    "tags": []
   },
   "outputs": [],
   "source": [
    "dt = DecisionTreeRegressor()"
   ]
  },
  {
   "cell_type": "code",
   "execution_count": 19,
   "id": "b3532bb3",
   "metadata": {
    "execution": {
     "iopub.execute_input": "2025-04-14T14:01:06.143327Z",
     "iopub.status.busy": "2025-04-14T14:01:06.142994Z",
     "iopub.status.idle": "2025-04-14T14:01:10.505931Z",
     "shell.execute_reply": "2025-04-14T14:01:10.504695Z"
    },
    "papermill": {
     "duration": 4.372295,
     "end_time": "2025-04-14T14:01:10.507522",
     "exception": false,
     "start_time": "2025-04-14T14:01:06.135227",
     "status": "completed"
    },
    "tags": []
   },
   "outputs": [
    {
     "data": {
      "text/html": [
       "<style>#sk-container-id-1 {color: black;background-color: white;}#sk-container-id-1 pre{padding: 0;}#sk-container-id-1 div.sk-toggleable {background-color: white;}#sk-container-id-1 label.sk-toggleable__label {cursor: pointer;display: block;width: 100%;margin-bottom: 0;padding: 0.3em;box-sizing: border-box;text-align: center;}#sk-container-id-1 label.sk-toggleable__label-arrow:before {content: \"▸\";float: left;margin-right: 0.25em;color: #696969;}#sk-container-id-1 label.sk-toggleable__label-arrow:hover:before {color: black;}#sk-container-id-1 div.sk-estimator:hover label.sk-toggleable__label-arrow:before {color: black;}#sk-container-id-1 div.sk-toggleable__content {max-height: 0;max-width: 0;overflow: hidden;text-align: left;background-color: #f0f8ff;}#sk-container-id-1 div.sk-toggleable__content pre {margin: 0.2em;color: black;border-radius: 0.25em;background-color: #f0f8ff;}#sk-container-id-1 input.sk-toggleable__control:checked~div.sk-toggleable__content {max-height: 200px;max-width: 100%;overflow: auto;}#sk-container-id-1 input.sk-toggleable__control:checked~label.sk-toggleable__label-arrow:before {content: \"▾\";}#sk-container-id-1 div.sk-estimator input.sk-toggleable__control:checked~label.sk-toggleable__label {background-color: #d4ebff;}#sk-container-id-1 div.sk-label input.sk-toggleable__control:checked~label.sk-toggleable__label {background-color: #d4ebff;}#sk-container-id-1 input.sk-hidden--visually {border: 0;clip: rect(1px 1px 1px 1px);clip: rect(1px, 1px, 1px, 1px);height: 1px;margin: -1px;overflow: hidden;padding: 0;position: absolute;width: 1px;}#sk-container-id-1 div.sk-estimator {font-family: monospace;background-color: #f0f8ff;border: 1px dotted black;border-radius: 0.25em;box-sizing: border-box;margin-bottom: 0.5em;}#sk-container-id-1 div.sk-estimator:hover {background-color: #d4ebff;}#sk-container-id-1 div.sk-parallel-item::after {content: \"\";width: 100%;border-bottom: 1px solid gray;flex-grow: 1;}#sk-container-id-1 div.sk-label:hover label.sk-toggleable__label {background-color: #d4ebff;}#sk-container-id-1 div.sk-serial::before {content: \"\";position: absolute;border-left: 1px solid gray;box-sizing: border-box;top: 0;bottom: 0;left: 50%;z-index: 0;}#sk-container-id-1 div.sk-serial {display: flex;flex-direction: column;align-items: center;background-color: white;padding-right: 0.2em;padding-left: 0.2em;position: relative;}#sk-container-id-1 div.sk-item {position: relative;z-index: 1;}#sk-container-id-1 div.sk-parallel {display: flex;align-items: stretch;justify-content: center;background-color: white;position: relative;}#sk-container-id-1 div.sk-item::before, #sk-container-id-1 div.sk-parallel-item::before {content: \"\";position: absolute;border-left: 1px solid gray;box-sizing: border-box;top: 0;bottom: 0;left: 50%;z-index: -1;}#sk-container-id-1 div.sk-parallel-item {display: flex;flex-direction: column;z-index: 1;position: relative;background-color: white;}#sk-container-id-1 div.sk-parallel-item:first-child::after {align-self: flex-end;width: 50%;}#sk-container-id-1 div.sk-parallel-item:last-child::after {align-self: flex-start;width: 50%;}#sk-container-id-1 div.sk-parallel-item:only-child::after {width: 0;}#sk-container-id-1 div.sk-dashed-wrapped {border: 1px dashed gray;margin: 0 0.4em 0.5em 0.4em;box-sizing: border-box;padding-bottom: 0.4em;background-color: white;}#sk-container-id-1 div.sk-label label {font-family: monospace;font-weight: bold;display: inline-block;line-height: 1.2em;}#sk-container-id-1 div.sk-label-container {text-align: center;}#sk-container-id-1 div.sk-container {/* jupyter's `normalize.less` sets `[hidden] { display: none; }` but bootstrap.min.css set `[hidden] { display: none !important; }` so we also need the `!important` here to be able to override the default hidden behavior on the sphinx rendered scikit-learn.org. See: https://github.com/scikit-learn/scikit-learn/issues/21755 */display: inline-block !important;position: relative;}#sk-container-id-1 div.sk-text-repr-fallback {display: none;}</style><div id=\"sk-container-id-1\" class=\"sk-top-container\"><div class=\"sk-text-repr-fallback\"><pre>DecisionTreeRegressor()</pre><b>In a Jupyter environment, please rerun this cell to show the HTML representation or trust the notebook. <br />On GitHub, the HTML representation is unable to render, please try loading this page with nbviewer.org.</b></div><div class=\"sk-container\" hidden><div class=\"sk-item\"><div class=\"sk-estimator sk-toggleable\"><input class=\"sk-toggleable__control sk-hidden--visually\" id=\"sk-estimator-id-1\" type=\"checkbox\" checked><label for=\"sk-estimator-id-1\" class=\"sk-toggleable__label sk-toggleable__label-arrow\">DecisionTreeRegressor</label><div class=\"sk-toggleable__content\"><pre>DecisionTreeRegressor()</pre></div></div></div></div></div>"
      ],
      "text/plain": [
       "DecisionTreeRegressor()"
      ]
     },
     "execution_count": 19,
     "metadata": {},
     "output_type": "execute_result"
    }
   ],
   "source": [
    "dt.fit(X_train,y_train)"
   ]
  },
  {
   "cell_type": "code",
   "execution_count": 20,
   "id": "3a84bad7",
   "metadata": {
    "execution": {
     "iopub.execute_input": "2025-04-14T14:01:10.521100Z",
     "iopub.status.busy": "2025-04-14T14:01:10.520793Z",
     "iopub.status.idle": "2025-04-14T14:01:10.684923Z",
     "shell.execute_reply": "2025-04-14T14:01:10.683910Z"
    },
    "papermill": {
     "duration": 0.17289,
     "end_time": "2025-04-14T14:01:10.686628",
     "exception": false,
     "start_time": "2025-04-14T14:01:10.513738",
     "status": "completed"
    },
    "tags": []
   },
   "outputs": [],
   "source": [
    "y_pred_dt = dt.predict(X_test)"
   ]
  },
  {
   "cell_type": "code",
   "execution_count": 21,
   "id": "99d7840a",
   "metadata": {
    "execution": {
     "iopub.execute_input": "2025-04-14T14:01:10.700270Z",
     "iopub.status.busy": "2025-04-14T14:01:10.699903Z",
     "iopub.status.idle": "2025-04-14T14:01:10.707029Z",
     "shell.execute_reply": "2025-04-14T14:01:10.706068Z"
    },
    "papermill": {
     "duration": 0.015909,
     "end_time": "2025-04-14T14:01:10.708598",
     "exception": false,
     "start_time": "2025-04-14T14:01:10.692689",
     "status": "completed"
    },
    "tags": []
   },
   "outputs": [
    {
     "name": "stdout",
     "output_type": "stream",
     "text": [
      "13.277547604245523\n"
     ]
    }
   ],
   "source": [
    "mse = mean_squared_error(y_test, y_pred)\n",
    "rmse = np.sqrt(mse)\n",
    "print(rmse)"
   ]
  },
  {
   "cell_type": "code",
   "execution_count": 22,
   "id": "35028470",
   "metadata": {
    "execution": {
     "iopub.execute_input": "2025-04-14T14:01:10.722741Z",
     "iopub.status.busy": "2025-04-14T14:01:10.722426Z",
     "iopub.status.idle": "2025-04-14T14:01:10.730062Z",
     "shell.execute_reply": "2025-04-14T14:01:10.729199Z"
    },
    "papermill": {
     "duration": 0.01711,
     "end_time": "2025-04-14T14:01:10.731824",
     "exception": false,
     "start_time": "2025-04-14T14:01:10.714714",
     "status": "completed"
    },
    "tags": []
   },
   "outputs": [],
   "source": [
    "fea = ['Episode_Length_minutes' \t,'Host_Popularity_percentage' \t,'Guest_Popularity_percentage']\n",
    "X_test = df_test[fea]"
   ]
  },
  {
   "cell_type": "code",
   "execution_count": 23,
   "id": "d6a99284",
   "metadata": {
    "execution": {
     "iopub.execute_input": "2025-04-14T14:01:10.745352Z",
     "iopub.status.busy": "2025-04-14T14:01:10.745023Z",
     "iopub.status.idle": "2025-04-14T14:01:11.009358Z",
     "shell.execute_reply": "2025-04-14T14:01:11.008236Z"
    },
    "papermill": {
     "duration": 0.273091,
     "end_time": "2025-04-14T14:01:11.011093",
     "exception": false,
     "start_time": "2025-04-14T14:01:10.738002",
     "status": "completed"
    },
    "tags": []
   },
   "outputs": [],
   "source": [
    "test_pred = dt.predict(X_test)"
   ]
  },
  {
   "cell_type": "code",
   "execution_count": null,
   "id": "0966efa8",
   "metadata": {
    "papermill": {
     "duration": 0.005909,
     "end_time": "2025-04-14T14:01:11.023251",
     "exception": false,
     "start_time": "2025-04-14T14:01:11.017342",
     "status": "completed"
    },
    "tags": []
   },
   "outputs": [],
   "source": []
  },
  {
   "cell_type": "code",
   "execution_count": 24,
   "id": "4e839ca9",
   "metadata": {
    "execution": {
     "iopub.execute_input": "2025-04-14T14:01:11.036902Z",
     "iopub.status.busy": "2025-04-14T14:01:11.036567Z",
     "iopub.status.idle": "2025-04-14T14:01:11.521547Z",
     "shell.execute_reply": "2025-04-14T14:01:11.520625Z"
    },
    "papermill": {
     "duration": 0.494099,
     "end_time": "2025-04-14T14:01:11.523374",
     "exception": false,
     "start_time": "2025-04-14T14:01:11.029275",
     "status": "completed"
    },
    "tags": []
   },
   "outputs": [
    {
     "data": {
      "text/html": [
       "<div>\n",
       "<style scoped>\n",
       "    .dataframe tbody tr th:only-of-type {\n",
       "        vertical-align: middle;\n",
       "    }\n",
       "\n",
       "    .dataframe tbody tr th {\n",
       "        vertical-align: top;\n",
       "    }\n",
       "\n",
       "    .dataframe thead th {\n",
       "        text-align: right;\n",
       "    }\n",
       "</style>\n",
       "<table border=\"1\" class=\"dataframe\">\n",
       "  <thead>\n",
       "    <tr style=\"text-align: right;\">\n",
       "      <th></th>\n",
       "      <th>id</th>\n",
       "      <th>Listening_Time_minutes</th>\n",
       "    </tr>\n",
       "  </thead>\n",
       "  <tbody>\n",
       "    <tr>\n",
       "      <th>0</th>\n",
       "      <td>750000</td>\n",
       "      <td>58.98744</td>\n",
       "    </tr>\n",
       "    <tr>\n",
       "      <th>1</th>\n",
       "      <td>750001</td>\n",
       "      <td>24.76482</td>\n",
       "    </tr>\n",
       "    <tr>\n",
       "      <th>2</th>\n",
       "      <td>750002</td>\n",
       "      <td>51.16932</td>\n",
       "    </tr>\n",
       "    <tr>\n",
       "      <th>3</th>\n",
       "      <td>750003</td>\n",
       "      <td>95.10000</td>\n",
       "    </tr>\n",
       "    <tr>\n",
       "      <th>4</th>\n",
       "      <td>750004</td>\n",
       "      <td>38.45183</td>\n",
       "    </tr>\n",
       "    <tr>\n",
       "      <th>5</th>\n",
       "      <td>750005</td>\n",
       "      <td>30.71560</td>\n",
       "    </tr>\n",
       "    <tr>\n",
       "      <th>6</th>\n",
       "      <td>750006</td>\n",
       "      <td>107.54970</td>\n",
       "    </tr>\n",
       "    <tr>\n",
       "      <th>7</th>\n",
       "      <td>750007</td>\n",
       "      <td>48.77362</td>\n",
       "    </tr>\n",
       "    <tr>\n",
       "      <th>8</th>\n",
       "      <td>750008</td>\n",
       "      <td>55.75000</td>\n",
       "    </tr>\n",
       "    <tr>\n",
       "      <th>9</th>\n",
       "      <td>750009</td>\n",
       "      <td>84.92222</td>\n",
       "    </tr>\n",
       "  </tbody>\n",
       "</table>\n",
       "</div>"
      ],
      "text/plain": [
       "       id  Listening_Time_minutes\n",
       "0  750000                58.98744\n",
       "1  750001                24.76482\n",
       "2  750002                51.16932\n",
       "3  750003                95.10000\n",
       "4  750004                38.45183\n",
       "5  750005                30.71560\n",
       "6  750006               107.54970\n",
       "7  750007                48.77362\n",
       "8  750008                55.75000\n",
       "9  750009                84.92222"
      ]
     },
     "execution_count": 24,
     "metadata": {},
     "output_type": "execute_result"
    }
   ],
   "source": [
    "df_subm['Listening_Time_minutes'] = test_pred\n",
    "df_subm.to_csv('submission.csv')\n",
    "df_subm.head(10)"
   ]
  },
  {
   "cell_type": "code",
   "execution_count": null,
   "id": "5fe71f3e",
   "metadata": {
    "papermill": {
     "duration": 0.005805,
     "end_time": "2025-04-14T14:01:11.535704",
     "exception": false,
     "start_time": "2025-04-14T14:01:11.529899",
     "status": "completed"
    },
    "tags": []
   },
   "outputs": [],
   "source": []
  }
 ],
 "metadata": {
  "kaggle": {
   "accelerator": "none",
   "dataSources": [
    {
     "datasetId": 7141503,
     "sourceId": 11401965,
     "sourceType": "datasetVersion"
    },
    {
     "datasetId": 7142138,
     "sourceId": 11402811,
     "sourceType": "datasetVersion"
    }
   ],
   "dockerImageVersionId": 31012,
   "isGpuEnabled": false,
   "isInternetEnabled": true,
   "language": "python",
   "sourceType": "notebook"
  },
  "kernelspec": {
   "display_name": "Python 3",
   "language": "python",
   "name": "python3"
  },
  "language_info": {
   "codemirror_mode": {
    "name": "ipython",
    "version": 3
   },
   "file_extension": ".py",
   "mimetype": "text/x-python",
   "name": "python",
   "nbconvert_exporter": "python",
   "pygments_lexer": "ipython3",
   "version": "3.11.11"
  },
  "papermill": {
   "default_parameters": {},
   "duration": 427.693791,
   "end_time": "2025-04-14T14:01:12.564275",
   "environment_variables": {},
   "exception": null,
   "input_path": "__notebook__.ipynb",
   "output_path": "__notebook__.ipynb",
   "parameters": {},
   "start_time": "2025-04-14T13:54:04.870484",
   "version": "2.6.0"
  }
 },
 "nbformat": 4,
 "nbformat_minor": 5
}
