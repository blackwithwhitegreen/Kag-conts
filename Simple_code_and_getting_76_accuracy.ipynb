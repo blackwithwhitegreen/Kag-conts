{
  "metadata": {
    "kernelspec": {
      "language": "python",
      "display_name": "Python 3",
      "name": "python3"
    },
    "language_info": {
      "name": "python",
      "version": "3.10.12",
      "mimetype": "text/x-python",
      "codemirror_mode": {
        "name": "ipython",
        "version": 3
      },
      "pygments_lexer": "ipython3",
      "nbconvert_exporter": "python",
      "file_extension": ".py"
    },
    "kaggle": {
      "accelerator": "none",
      "dataSources": [
        {
          "sourceId": 11135411,
          "sourceType": "datasetVersion",
          "datasetId": 6945230
        }
      ],
      "dockerImageVersionId": 30918,
      "isInternetEnabled": true,
      "language": "python",
      "sourceType": "notebook",
      "isGpuEnabled": false
    },
    "colab": {
      "name": "Simple code and  getting 76% accuracy",
      "provenance": [],
      "include_colab_link": true
    }
  },
  "nbformat_minor": 0,
  "nbformat": 4,
  "cells": [
    {
      "cell_type": "markdown",
      "metadata": {
        "id": "view-in-github",
        "colab_type": "text"
      },
      "source": [
        "<a href=\"https://colab.research.google.com/github/blackwithwhitegreen/Kag-conts/blob/main/Simple_code_and_getting_76_accuracy.ipynb\" target=\"_parent\"><img src=\"https://colab.research.google.com/assets/colab-badge.svg\" alt=\"Open In Colab\"/></a>"
      ]
    },
    {
      "source": [
        "# IMPORTANT: RUN THIS CELL IN ORDER TO IMPORT YOUR KAGGLE DATA SOURCES,\n",
        "# THEN FEEL FREE TO DELETE THIS CELL.\n",
        "# NOTE: THIS NOTEBOOK ENVIRONMENT DIFFERS FROM KAGGLE'S PYTHON\n",
        "# ENVIRONMENT SO THERE MAY BE MISSING LIBRARIES USED BY YOUR\n",
        "# NOTEBOOK.\n",
        "import kagglehub\n",
        "shohinurpervezshohan_techcorner_mobile_purchase_and_engagement_data_path = kagglehub.dataset_download('shohinurpervezshohan/techcorner-mobile-purchase-and-engagement-data')\n",
        "\n",
        "print('Data source import complete.')\n"
      ],
      "metadata": {
        "id": "6k6Aql_gat2k"
      },
      "cell_type": "code",
      "outputs": [],
      "execution_count": null
    },
    {
      "cell_type": "code",
      "source": [
        "# This Python 3 environment comes with many helpful analytics libraries installed\n",
        "# It is defined by the kaggle/python Docker image: https://github.com/kaggle/docker-python\n",
        "# For example, here's several helpful packages to load\n",
        "\n",
        "import numpy as np # linear algebra\n",
        "import pandas as pd # data processing, CSV file I/O (e.g. pd.read_csv)\n",
        "\n",
        "# Input data files are available in the read-only \"../input/\" directory\n",
        "# For example, running this (by clicking run or pressing Shift+Enter) will list all files under the input directory\n",
        "\n",
        "import os\n",
        "for dirname, _, filenames in os.walk('/kaggle/input'):\n",
        "    for filename in filenames:\n",
        "        print(os.path.join(dirname, filename))\n",
        "\n",
        "# You can write up to 20GB to the current directory (/kaggle/working/) that gets preserved as output when you create a version using \"Save & Run All\"\n",
        "# You can also write temporary files to /kaggle/temp/, but they won't be saved outside of the current session"
      ],
      "metadata": {
        "_uuid": "8f2839f25d086af736a60e9eeb907d3b93b6e0e5",
        "_cell_guid": "b1076dfc-b9ad-4769-8c92-a6c4dae69d19",
        "trusted": true,
        "execution": {
          "iopub.status.busy": "2025-03-24T13:37:54.304391Z",
          "iopub.execute_input": "2025-03-24T13:37:54.304875Z",
          "iopub.status.idle": "2025-03-24T13:37:54.313168Z",
          "shell.execute_reply.started": "2025-03-24T13:37:54.304842Z",
          "shell.execute_reply": "2025-03-24T13:37:54.312072Z"
        },
        "id": "Wj6YuXJaat2n"
      },
      "outputs": [],
      "execution_count": null
    },
    {
      "cell_type": "code",
      "source": [
        "import matplotlib.pyplot as plt\n",
        "import seaborn as sns\n"
      ],
      "metadata": {
        "trusted": true,
        "execution": {
          "iopub.status.busy": "2025-03-24T13:37:54.314512Z",
          "iopub.execute_input": "2025-03-24T13:37:54.314892Z",
          "iopub.status.idle": "2025-03-24T13:37:54.330279Z",
          "shell.execute_reply.started": "2025-03-24T13:37:54.314851Z",
          "shell.execute_reply": "2025-03-24T13:37:54.328968Z"
        },
        "id": "Fy5fpgEqat2o"
      },
      "outputs": [],
      "execution_count": null
    },
    {
      "cell_type": "markdown",
      "source": [
        "**Loading dataset**"
      ],
      "metadata": {
        "id": "udC-SHweat2o"
      }
    },
    {
      "cell_type": "code",
      "source": [
        "df = pd.read_csv('/kaggle/input/techcorner-mobile-purchase-and-engagement-data/TechCorner_Sales_update.csv')"
      ],
      "metadata": {
        "trusted": true,
        "execution": {
          "iopub.status.busy": "2025-03-24T13:37:54.33233Z",
          "iopub.execute_input": "2025-03-24T13:37:54.332945Z",
          "iopub.status.idle": "2025-03-24T13:37:54.368377Z",
          "shell.execute_reply.started": "2025-03-24T13:37:54.332899Z",
          "shell.execute_reply": "2025-03-24T13:37:54.367333Z"
        },
        "id": "ngekB3nwat2q"
      },
      "outputs": [],
      "execution_count": null
    },
    {
      "cell_type": "code",
      "source": [
        "df"
      ],
      "metadata": {
        "trusted": true,
        "execution": {
          "iopub.status.busy": "2025-03-24T13:37:54.369941Z",
          "iopub.execute_input": "2025-03-24T13:37:54.370264Z",
          "iopub.status.idle": "2025-03-24T13:37:54.392334Z",
          "shell.execute_reply.started": "2025-03-24T13:37:54.370238Z",
          "shell.execute_reply": "2025-03-24T13:37:54.390375Z"
        },
        "id": "9Ts2gPLDat2q"
      },
      "outputs": [],
      "execution_count": null
    },
    {
      "cell_type": "code",
      "source": [
        "df.info()"
      ],
      "metadata": {
        "trusted": true,
        "execution": {
          "iopub.status.busy": "2025-03-24T13:37:54.393227Z",
          "iopub.execute_input": "2025-03-24T13:37:54.393628Z",
          "iopub.status.idle": "2025-03-24T13:37:54.41286Z",
          "shell.execute_reply.started": "2025-03-24T13:37:54.393581Z",
          "shell.execute_reply": "2025-03-24T13:37:54.411602Z"
        },
        "id": "5dd39N-Sat2r"
      },
      "outputs": [],
      "execution_count": null
    },
    {
      "cell_type": "markdown",
      "source": [
        "**Column name change.**"
      ],
      "metadata": {
        "id": "-blyuskJat2r"
      }
    },
    {
      "cell_type": "code",
      "source": [
        "df  = df.rename(columns={'Does he/she Come from Facebook Page?':'Facebook','Does he/she Followed Our Page?':'Page','Did he/she buy any mobile before?':'Buy','Did he/she hear of our shop before?':'Heared'})\n"
      ],
      "metadata": {
        "trusted": true,
        "execution": {
          "iopub.status.busy": "2025-03-24T13:37:54.413966Z",
          "iopub.execute_input": "2025-03-24T13:37:54.414348Z",
          "iopub.status.idle": "2025-03-24T13:37:54.435548Z",
          "shell.execute_reply.started": "2025-03-24T13:37:54.414312Z",
          "shell.execute_reply": "2025-03-24T13:37:54.434311Z"
        },
        "id": "XrDG4cKWat2r"
      },
      "outputs": [],
      "execution_count": null
    },
    {
      "cell_type": "code",
      "source": [
        "df = df.drop(df.columns[[1]],axis =1)"
      ],
      "metadata": {
        "trusted": true,
        "execution": {
          "iopub.status.busy": "2025-03-24T13:37:54.436661Z",
          "iopub.execute_input": "2025-03-24T13:37:54.437077Z",
          "iopub.status.idle": "2025-03-24T13:37:54.459667Z",
          "shell.execute_reply.started": "2025-03-24T13:37:54.437038Z",
          "shell.execute_reply": "2025-03-24T13:37:54.458507Z"
        },
        "id": "yr83CTjpat27"
      },
      "outputs": [],
      "execution_count": null
    },
    {
      "cell_type": "code",
      "source": [
        "import warnings\n",
        "warnings.filterwarnings('ignore')"
      ],
      "metadata": {
        "trusted": true,
        "execution": {
          "iopub.status.busy": "2025-03-24T13:37:54.461779Z",
          "iopub.execute_input": "2025-03-24T13:37:54.462107Z",
          "iopub.status.idle": "2025-03-24T13:37:54.479784Z",
          "shell.execute_reply.started": "2025-03-24T13:37:54.46208Z",
          "shell.execute_reply": "2025-03-24T13:37:54.478407Z"
        },
        "id": "aly0uAliat27"
      },
      "outputs": [],
      "execution_count": null
    },
    {
      "cell_type": "code",
      "source": [
        "df['Sell Price'] = df['Sell Price'].apply(np.int64)"
      ],
      "metadata": {
        "trusted": true,
        "execution": {
          "iopub.status.busy": "2025-03-24T13:37:54.513743Z",
          "iopub.execute_input": "2025-03-24T13:37:54.514213Z",
          "iopub.status.idle": "2025-03-24T13:37:54.546381Z",
          "shell.execute_reply.started": "2025-03-24T13:37:54.514172Z",
          "shell.execute_reply": "2025-03-24T13:37:54.54491Z"
        },
        "id": "Uz5rZuqGat28"
      },
      "outputs": [],
      "execution_count": null
    },
    {
      "cell_type": "code",
      "source": [
        "df = df.drop(columns=['Cus. Location'])"
      ],
      "metadata": {
        "trusted": true,
        "execution": {
          "iopub.status.busy": "2025-03-24T13:43:33.420133Z",
          "iopub.execute_input": "2025-03-24T13:43:33.420583Z",
          "iopub.status.idle": "2025-03-24T13:43:33.426211Z",
          "shell.execute_reply.started": "2025-03-24T13:43:33.420545Z",
          "shell.execute_reply": "2025-03-24T13:43:33.425001Z"
        },
        "id": "DrDnKgHcat29"
      },
      "outputs": [],
      "execution_count": null
    },
    {
      "cell_type": "markdown",
      "source": [
        "**Converting categorical columns**"
      ],
      "metadata": {
        "id": "GEtAK_vAat29"
      }
    },
    {
      "cell_type": "code",
      "source": [
        "df = df.replace({'Yes':1,'No':0})\n",
        "df = df.replace({'M':1,'F':0})\n",
        "df"
      ],
      "metadata": {
        "trusted": true,
        "execution": {
          "iopub.status.busy": "2025-03-24T13:43:35.620067Z",
          "iopub.execute_input": "2025-03-24T13:43:35.620393Z",
          "iopub.status.idle": "2025-03-24T13:43:35.638251Z",
          "shell.execute_reply.started": "2025-03-24T13:43:35.620367Z",
          "shell.execute_reply": "2025-03-24T13:43:35.637028Z"
        },
        "id": "2VCcfoHzat29"
      },
      "outputs": [],
      "execution_count": null
    },
    {
      "cell_type": "code",
      "source": [
        "df.info()"
      ],
      "metadata": {
        "trusted": true,
        "execution": {
          "iopub.status.busy": "2025-03-24T13:43:37.546045Z",
          "iopub.execute_input": "2025-03-24T13:43:37.546383Z",
          "iopub.status.idle": "2025-03-24T13:43:37.557414Z",
          "shell.execute_reply.started": "2025-03-24T13:43:37.546356Z",
          "shell.execute_reply": "2025-03-24T13:43:37.556179Z"
        },
        "id": "QH1M8MmHat29"
      },
      "outputs": [],
      "execution_count": null
    },
    {
      "cell_type": "markdown",
      "source": [
        "**Mobile Name present in dataset.**"
      ],
      "metadata": {
        "id": "eVz9dAwQat2-"
      }
    },
    {
      "cell_type": "code",
      "source": [
        "plt.figure(figsize=(12,5))\n",
        "sns.countplot(y=df['Mobile Name'])\n",
        "plt.title(\"All top mobile phones\")\n",
        "plt.xlabel(\"Count\")\n",
        "plt.ylabel(\"Model\")\n",
        "plt.show()"
      ],
      "metadata": {
        "trusted": true,
        "execution": {
          "iopub.status.busy": "2025-03-24T13:43:37.855361Z",
          "iopub.execute_input": "2025-03-24T13:43:37.85577Z",
          "iopub.status.idle": "2025-03-24T13:43:38.12649Z",
          "shell.execute_reply.started": "2025-03-24T13:43:37.855733Z",
          "shell.execute_reply": "2025-03-24T13:43:38.125425Z"
        },
        "id": "wtyxFS8Iat2-"
      },
      "outputs": [],
      "execution_count": null
    },
    {
      "cell_type": "markdown",
      "source": [
        "labeling"
      ],
      "metadata": {
        "id": "WyW8bZwHat2-"
      }
    },
    {
      "cell_type": "code",
      "source": [
        "from sklearn.preprocessing import LabelEncoder"
      ],
      "metadata": {
        "trusted": true,
        "execution": {
          "iopub.status.busy": "2025-03-24T13:43:38.129036Z",
          "iopub.execute_input": "2025-03-24T13:43:38.129458Z",
          "iopub.status.idle": "2025-03-24T13:43:38.13431Z",
          "shell.execute_reply.started": "2025-03-24T13:43:38.129417Z",
          "shell.execute_reply": "2025-03-24T13:43:38.133089Z"
        },
        "id": "0Z3zM4HWat2-"
      },
      "outputs": [],
      "execution_count": null
    },
    {
      "cell_type": "code",
      "source": [
        "cat_data = ['Mobile Name']"
      ],
      "metadata": {
        "trusted": true,
        "execution": {
          "iopub.status.busy": "2025-03-24T13:43:38.261776Z",
          "iopub.execute_input": "2025-03-24T13:43:38.262134Z",
          "iopub.status.idle": "2025-03-24T13:43:38.266733Z",
          "shell.execute_reply.started": "2025-03-24T13:43:38.262104Z",
          "shell.execute_reply": "2025-03-24T13:43:38.265629Z"
        },
        "id": "T-H3yonYat2-"
      },
      "outputs": [],
      "execution_count": null
    },
    {
      "cell_type": "code",
      "source": [
        "le = LabelEncoder()\n",
        "df['Mobile Name'] = le.fit_transform(df['Mobile Name'])\n",
        "df"
      ],
      "metadata": {
        "trusted": true,
        "execution": {
          "iopub.status.busy": "2025-03-24T13:43:38.419945Z",
          "iopub.execute_input": "2025-03-24T13:43:38.420333Z",
          "iopub.status.idle": "2025-03-24T13:43:38.434492Z",
          "shell.execute_reply.started": "2025-03-24T13:43:38.420299Z",
          "shell.execute_reply": "2025-03-24T13:43:38.433417Z"
        },
        "id": "WgM8hsWZat2_"
      },
      "outputs": [],
      "execution_count": null
    },
    {
      "cell_type": "code",
      "source": [
        "df.info()"
      ],
      "metadata": {
        "trusted": true,
        "execution": {
          "iopub.status.busy": "2025-03-24T13:43:38.522815Z",
          "iopub.execute_input": "2025-03-24T13:43:38.523148Z",
          "iopub.status.idle": "2025-03-24T13:43:38.53568Z",
          "shell.execute_reply.started": "2025-03-24T13:43:38.523121Z",
          "shell.execute_reply": "2025-03-24T13:43:38.534254Z"
        },
        "id": "nyPUTckyat2_"
      },
      "outputs": [],
      "execution_count": null
    },
    {
      "cell_type": "markdown",
      "source": [
        "**Splitting**"
      ],
      "metadata": {
        "id": "wLYEAMenat2_"
      }
    },
    {
      "cell_type": "code",
      "source": [],
      "metadata": {
        "trusted": true,
        "id": "MeAXjRVfat2_"
      },
      "outputs": [],
      "execution_count": null
    },
    {
      "cell_type": "code",
      "source": [
        "X = df.drop(columns=['Buy'])\n",
        "y = df['Buy']"
      ],
      "metadata": {
        "trusted": true,
        "execution": {
          "iopub.status.busy": "2025-03-24T13:43:43.300942Z",
          "iopub.execute_input": "2025-03-24T13:43:43.301309Z",
          "iopub.status.idle": "2025-03-24T13:43:43.307236Z",
          "shell.execute_reply.started": "2025-03-24T13:43:43.301278Z",
          "shell.execute_reply": "2025-03-24T13:43:43.305959Z"
        },
        "id": "zDIBqIWIat3A"
      },
      "outputs": [],
      "execution_count": null
    },
    {
      "cell_type": "code",
      "source": [
        "from sklearn.model_selection import train_test_split"
      ],
      "metadata": {
        "trusted": true,
        "execution": {
          "iopub.status.busy": "2025-03-24T13:43:44.617666Z",
          "iopub.execute_input": "2025-03-24T13:43:44.618009Z",
          "iopub.status.idle": "2025-03-24T13:43:44.622447Z",
          "shell.execute_reply.started": "2025-03-24T13:43:44.617982Z",
          "shell.execute_reply": "2025-03-24T13:43:44.621196Z"
        },
        "id": "zi7_MEY8at3A"
      },
      "outputs": [],
      "execution_count": null
    },
    {
      "cell_type": "code",
      "source": [
        "X_train,X_test,y_train,y_test = train_test_split(X,y,test_size=0.2,random_state=45)"
      ],
      "metadata": {
        "trusted": true,
        "execution": {
          "iopub.status.busy": "2025-03-24T13:43:44.956632Z",
          "iopub.execute_input": "2025-03-24T13:43:44.956976Z",
          "iopub.status.idle": "2025-03-24T13:43:44.965766Z",
          "shell.execute_reply.started": "2025-03-24T13:43:44.956946Z",
          "shell.execute_reply": "2025-03-24T13:43:44.964593Z"
        },
        "id": "vTfcoGDTat3A"
      },
      "outputs": [],
      "execution_count": null
    },
    {
      "cell_type": "markdown",
      "source": [
        "**Model Building**"
      ],
      "metadata": {
        "id": "XcK2f2PWat3A"
      }
    },
    {
      "cell_type": "code",
      "source": [
        "from sklearn.linear_model import LogisticRegression"
      ],
      "metadata": {
        "trusted": true,
        "execution": {
          "iopub.status.busy": "2025-03-24T13:43:46.503445Z",
          "iopub.execute_input": "2025-03-24T13:43:46.503849Z",
          "iopub.status.idle": "2025-03-24T13:43:46.508196Z",
          "shell.execute_reply.started": "2025-03-24T13:43:46.503819Z",
          "shell.execute_reply": "2025-03-24T13:43:46.507062Z"
        },
        "id": "VNxLxUI-at3B"
      },
      "outputs": [],
      "execution_count": null
    },
    {
      "cell_type": "code",
      "source": [
        "lr = LogisticRegression()"
      ],
      "metadata": {
        "trusted": true,
        "execution": {
          "iopub.status.busy": "2025-03-24T13:43:47.834753Z",
          "iopub.execute_input": "2025-03-24T13:43:47.835083Z",
          "iopub.status.idle": "2025-03-24T13:43:47.839627Z",
          "shell.execute_reply.started": "2025-03-24T13:43:47.835058Z",
          "shell.execute_reply": "2025-03-24T13:43:47.838261Z"
        },
        "id": "aIqSQMYRat3B"
      },
      "outputs": [],
      "execution_count": null
    },
    {
      "cell_type": "code",
      "source": [
        "df"
      ],
      "metadata": {
        "trusted": true,
        "execution": {
          "iopub.status.busy": "2025-03-24T13:43:48.523665Z",
          "iopub.execute_input": "2025-03-24T13:43:48.524027Z",
          "iopub.status.idle": "2025-03-24T13:43:48.537236Z",
          "shell.execute_reply.started": "2025-03-24T13:43:48.523998Z",
          "shell.execute_reply": "2025-03-24T13:43:48.535969Z"
        },
        "id": "d5URdA7Jat3C"
      },
      "outputs": [],
      "execution_count": null
    },
    {
      "cell_type": "code",
      "source": [
        "lr.fit(X,y)"
      ],
      "metadata": {
        "trusted": true,
        "execution": {
          "iopub.status.busy": "2025-03-24T13:43:50.268861Z",
          "iopub.execute_input": "2025-03-24T13:43:50.26923Z",
          "iopub.status.idle": "2025-03-24T13:43:50.300789Z",
          "shell.execute_reply.started": "2025-03-24T13:43:50.269199Z",
          "shell.execute_reply": "2025-03-24T13:43:50.299737Z"
        },
        "id": "Cwn66qGKat3C"
      },
      "outputs": [],
      "execution_count": null
    },
    {
      "cell_type": "code",
      "source": [
        "y_pred = lr.predict(X_test)"
      ],
      "metadata": {
        "trusted": true,
        "execution": {
          "iopub.status.busy": "2025-03-24T13:43:51.905971Z",
          "iopub.execute_input": "2025-03-24T13:43:51.906304Z",
          "iopub.status.idle": "2025-03-24T13:43:51.913064Z",
          "shell.execute_reply.started": "2025-03-24T13:43:51.906279Z",
          "shell.execute_reply": "2025-03-24T13:43:51.911844Z"
        },
        "id": "52SRA8Mxat3C"
      },
      "outputs": [],
      "execution_count": null
    },
    {
      "cell_type": "code",
      "source": [
        "from sklearn.metrics import accuracy_score"
      ],
      "metadata": {
        "trusted": true,
        "execution": {
          "iopub.status.busy": "2025-03-24T13:43:52.255394Z",
          "iopub.execute_input": "2025-03-24T13:43:52.255775Z",
          "iopub.status.idle": "2025-03-24T13:43:52.260094Z",
          "shell.execute_reply.started": "2025-03-24T13:43:52.255745Z",
          "shell.execute_reply": "2025-03-24T13:43:52.258845Z"
        },
        "id": "fI4R67F4at3C"
      },
      "outputs": [],
      "execution_count": null
    },
    {
      "cell_type": "code",
      "source": [
        "acc = accuracy_score(y_test,y_pred)"
      ],
      "metadata": {
        "trusted": true,
        "execution": {
          "iopub.status.busy": "2025-03-24T13:43:52.858906Z",
          "iopub.execute_input": "2025-03-24T13:43:52.859279Z",
          "iopub.status.idle": "2025-03-24T13:43:52.865491Z",
          "shell.execute_reply.started": "2025-03-24T13:43:52.859247Z",
          "shell.execute_reply": "2025-03-24T13:43:52.864288Z"
        },
        "id": "hnP7cWzmat3D"
      },
      "outputs": [],
      "execution_count": null
    },
    {
      "cell_type": "code",
      "source": [
        "acc"
      ],
      "metadata": {
        "trusted": true,
        "execution": {
          "iopub.status.busy": "2025-03-24T13:43:54.674111Z",
          "iopub.execute_input": "2025-03-24T13:43:54.67454Z",
          "iopub.status.idle": "2025-03-24T13:43:54.680743Z",
          "shell.execute_reply.started": "2025-03-24T13:43:54.674462Z",
          "shell.execute_reply": "2025-03-24T13:43:54.679702Z"
        },
        "id": "12kJ1Efnat3D"
      },
      "outputs": [],
      "execution_count": null
    },
    {
      "cell_type": "code",
      "source": [],
      "metadata": {
        "trusted": true,
        "id": "JH-O7S3sat3D"
      },
      "outputs": [],
      "execution_count": null
    }
  ]
}